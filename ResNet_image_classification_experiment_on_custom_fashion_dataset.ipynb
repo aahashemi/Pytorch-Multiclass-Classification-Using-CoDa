{
  "nbformat": 4,
  "nbformat_minor": 0,
  "metadata": {
    "colab": {
      "provenance": [],
      "collapsed_sections": [
        "_CoWbTn5ZHfQ"
      ],
      "gpuType": "T4"
    },
    "kernelspec": {
      "name": "python3",
      "display_name": "Python 3"
    },
    "language_info": {
      "name": "python"
    },
    "accelerator": "GPU"
  },
  "cells": [
    {
      "cell_type": "markdown",
      "source": [
        "# Custom fashion dataset and data pre-processing"
      ],
      "metadata": {
        "id": "_CoWbTn5ZHfQ"
      }
    },
    {
      "cell_type": "code",
      "execution_count": null,
      "metadata": {
        "colab": {
          "base_uri": "https://localhost:8080/"
        },
        "id": "79p5KEZ3J3UW",
        "outputId": "9101776e-f1aa-4753-9719-77279eb2bbf2"
      },
      "outputs": [
        {
          "output_type": "stream",
          "name": "stdout",
          "text": [
            "cuda\n"
          ]
        }
      ],
      "source": [
        "import numpy as np\n",
        "import pandas as pd\n",
        "import torch\n",
        "import torch.nn as nn\n",
        "from torchvision import datasets\n",
        "from torchvision import transforms\n",
        "from torch.utils.data.sampler import SubsetRandomSampler\n",
        "\n",
        "import matplotlib.pyplot as plt\n",
        "import torch.nn.functional as functional\n",
        "from torch.utils.data import DataLoader\n",
        "# Device configuration\n",
        "device = torch.device('cuda' if torch.cuda.is_available() else 'cpu')\n",
        "print(device)"
      ]
    },
    {
      "cell_type": "code",
      "source": [
        "# install the datasated from https://www.kaggle.com/datasets/aahashemi/zalando-fashion-dataset"
      ],
      "metadata": {
        "id": "2tgwM8J8KCqb"
      },
      "execution_count": null,
      "outputs": []
    },
    {
      "cell_type": "code",
      "source": [
        "# read the csv file\n",
        "df = pd.read_csv(\"zalando_fashion_dataset.csv\")\n",
        "# categories and their corresponding id\n",
        "CATEGORIES = {'Jacket':0, 'Pants':1, 'Jeans':2, 'Shorts':3, 'T-shirt':4,\n",
        "                'Pullover':5, 'Bag':6, 'Cap':7, 'Sandal':8, 'Skirt':9}\n",
        "\n",
        "# split the dataset into train, test, and validation\n",
        "df_train = df.iloc[:40000, 1:786]\n",
        "df_test = df.iloc[40000:45000, 1:786]\n",
        "df_validate = df.iloc[45000:, 1:786]"
      ],
      "metadata": {
        "id": "lSZp9KL7KD1h"
      },
      "execution_count": null,
      "outputs": []
    },
    {
      "cell_type": "code",
      "source": [
        "# separate x and y from the dataframes and convert them into Pytorch tensors\n",
        "\n",
        "# train\n",
        "x_train = df_train.iloc[:, 1:786]\n",
        "x_train = torch.tensor(x_train.values)\n",
        "\n",
        "y_train = df_train.iloc[:, 0]\n",
        "y_train = torch.tensor(y_train.values)\n",
        "\n",
        "# test\n",
        "x_test = df_test.iloc[:, 1:786]\n",
        "x_test = torch.tensor(x_test.values)\n",
        "\n",
        "y_test = df_test.iloc[:, 0]\n",
        "y_test = torch.tensor(y_test.values)\n",
        "\n",
        "# validate\n",
        "x_validate = df_validate.iloc[:, 1:786]\n",
        "x_validate = torch.tensor(x_validate.values)\n",
        "\n",
        "y_validate = df_validate.iloc[:, 0]\n",
        "y_validate = torch.tensor(y_validate.values)\n"
      ],
      "metadata": {
        "id": "R3OX1hprKez-"
      },
      "execution_count": null,
      "outputs": []
    },
    {
      "cell_type": "code",
      "source": [
        "# one hot encode the y labels\n",
        "y_train_one_hot = functional.one_hot(y_train.long(), num_classes = 10)\n",
        "y_test_one_hot = functional.one_hot(y_test.long(), num_classes = 10)\n",
        "y_validate_one_hot = functional.one_hot(y_validate.long(), num_classes = 10)\n",
        "\n"
      ],
      "metadata": {
        "id": "G0Thh7rrKg9C"
      },
      "execution_count": null,
      "outputs": []
    },
    {
      "cell_type": "code",
      "source": [
        "mean_train = torch.mean(x_train, dim=0)\n",
        "var_train = torch.var(x_train, dim=0)\n",
        "\n",
        "mean_test = torch.mean(x_test, dim=0)\n",
        "var_test = torch.var(x_test, dim=0)\n",
        "\n",
        "mean_validate = torch.mean(x_validate, dim=0)\n",
        "var_validate = torch.var(x_validate, dim=0)"
      ],
      "metadata": {
        "id": "NcJAt3MUKjJa"
      },
      "execution_count": null,
      "outputs": []
    },
    {
      "cell_type": "code",
      "source": [
        "x_train_norm = (x_train - mean_train) / torch.sqrt(var_train)\n",
        "x_test_norm = (x_test - mean_test) / torch.sqrt(var_test)\n",
        "x_validate_norm =(x_validate - mean_validate) / torch.sqrt(var_validate)"
      ],
      "metadata": {
        "id": "0fJaJ4IfKrBp"
      },
      "execution_count": null,
      "outputs": []
    },
    {
      "cell_type": "code",
      "source": [
        "from torch.utils.data import TensorDataset, DataLoader\n",
        "import torch.utils.data as data_utils\n",
        "\n",
        "batch_size = 64\n",
        "\n",
        "train_dataset = TensorDataset(x_train_norm.view(-1, 1, 28, 28), y_train_one_hot)\n",
        "train_data_loader = DataLoader(train_dataset, batch_size, shuffle=True)\n",
        "\n",
        "validate_dataset = TensorDataset(x_validate_norm.view(-1, 1, 28, 28), y_validate_one_hot)\n",
        "validate_data_loader = DataLoader(validate_dataset, batch_size, shuffle=True)"
      ],
      "metadata": {
        "id": "wtjBFOlpKu0e"
      },
      "execution_count": null,
      "outputs": []
    },
    {
      "cell_type": "code",
      "source": [
        "test_dataset = TensorDataset(x_test_norm.view(-1, 1, 28, 28), y_test_one_hot)\n",
        "test_data_loader = DataLoader(test_dataset, batch_size, shuffle=True)"
      ],
      "metadata": {
        "id": "oC1Eix_zfenP"
      },
      "execution_count": null,
      "outputs": []
    },
    {
      "cell_type": "code",
      "source": [
        "from torchvision import transforms\n",
        "data = next(iter(train_data_loader))\n",
        "mean = data[0].mean()\n",
        "std = data[0].std()\n",
        "print(mean, std)"
      ],
      "metadata": {
        "colab": {
          "base_uri": "https://localhost:8080/"
        },
        "id": "Vki9q7a5KyIu",
        "outputId": "053bd8a4-244a-4bd9-9f4a-2929dcf9f86a"
      },
      "execution_count": null,
      "outputs": [
        {
          "output_type": "stream",
          "name": "stdout",
          "text": [
            "tensor(-0.0251, dtype=torch.float64) tensor(0.9567, dtype=torch.float64)\n"
          ]
        }
      ]
    },
    {
      "cell_type": "code",
      "source": [
        "plt.hist(data[0][:100].flatten())\n",
        "plt.axvline(mean)"
      ],
      "metadata": {
        "colab": {
          "base_uri": "https://localhost:8080/",
          "height": 450
        },
        "id": "sRK0noQPK0CJ",
        "outputId": "21cd9df6-2fc2-4016-aa2a-dd264b43ac3c"
      },
      "execution_count": null,
      "outputs": [
        {
          "output_type": "execute_result",
          "data": {
            "text/plain": [
              "<matplotlib.lines.Line2D at 0x7f9c0f99c0d0>"
            ]
          },
          "metadata": {},
          "execution_count": 11
        },
        {
          "output_type": "display_data",
          "data": {
            "text/plain": [
              "<Figure size 640x480 with 1 Axes>"
            ],
            "image/png": "[encoded data removed]"
          },
          "metadata": {}
        }
      ]
    },
    {
      "cell_type": "markdown",
      "source": [
        "# ResNet image classification using Softmax layer + Cross-Entropy loss on Custom fashion dataset\n",
        "\n",
        "Note that in PyTorch implementation, the Cross-Entropy loss already has a Softmax layer embedded in itself. Therefore, no Softmax layer was added to the network."
      ],
      "metadata": {
        "id": "o-xEXjTWZv7D"
      }
    },
    {
      "cell_type": "code",
      "source": [
        "import torch\n",
        "import torch.nn as nn\n",
        "\n",
        "\n",
        "class BasicBlock(nn.Module):\n",
        "    def __init__(self, in_channels, out_channels, stride=1):\n",
        "        super(BasicBlock, self).__init__()\n",
        "        self.conv1 = nn.Conv2d(in_channels, out_channels, kernel_size=3, stride=stride, padding=1, bias=False)\n",
        "        self.bn1 = nn.BatchNorm2d(out_channels)\n",
        "        self.relu = nn.ReLU(inplace=True)\n",
        "        self.conv2 = nn.Conv2d(out_channels, out_channels, kernel_size=3, stride=1, padding=1, bias=False)\n",
        "        self.bn2 = nn.BatchNorm2d(out_channels)\n",
        "\n",
        "        self.shortcut = nn.Sequential()\n",
        "        if stride != 1 or in_channels != out_channels:\n",
        "            self.shortcut = nn.Sequential(\n",
        "                nn.Conv2d(in_channels, out_channels, kernel_size=1, stride=stride, bias=False),\n",
        "                nn.BatchNorm2d(out_channels)\n",
        "            )\n",
        "\n",
        "    def forward(self, x):\n",
        "        residual = x\n",
        "\n",
        "        out = self.conv1(x)\n",
        "        out = self.bn1(out)\n",
        "        out = self.relu(out)\n",
        "\n",
        "        out = self.conv2(out)\n",
        "        out = self.bn2(out)\n",
        "\n",
        "        out += self.shortcut(residual)\n",
        "        out = self.relu(out)\n",
        "\n",
        "        return out\n",
        "\n",
        "\n",
        "class ResNet(nn.Module):\n",
        "    def __init__(self, block, num_blocks, num_classes=10):\n",
        "        super(ResNet, self).__init__()\n",
        "        self.in_channels = 64\n",
        "\n",
        "        self.conv1 = nn.Conv2d(1, 64, kernel_size=3, stride=1, padding=1, bias=False)\n",
        "        self.bn1 = nn.BatchNorm2d(64)\n",
        "        self.relu = nn.ReLU(inplace=True)\n",
        "        self.layer1 = self.make_layer(block, 64, num_blocks[0], stride=1)\n",
        "        self.layer2 = self.make_layer(block, 128, num_blocks[1], stride=2)\n",
        "        self.layer3 = self.make_layer(block, 256, num_blocks[2], stride=2)\n",
        "        self.layer4 = self.make_layer(block, 512, num_blocks[3], stride=2)\n",
        "        self.avg_pool = nn.AdaptiveAvgPool2d((1, 1))\n",
        "        self.fc = nn.Linear(512, num_classes)\n",
        "\n",
        "    def make_layer(self, block, out_channels, num_blocks, stride):\n",
        "        layers = []\n",
        "        layers.append(block(self.in_channels, out_channels, stride))\n",
        "        self.in_channels = out_channels\n",
        "        for _ in range(1, num_blocks):\n",
        "            layers.append(block(out_channels, out_channels))\n",
        "        return nn.Sequential(*layers)\n",
        "\n",
        "    def forward(self, x):\n",
        "        out = self.conv1(x)\n",
        "        out = self.bn1(out)\n",
        "        out = self.relu(out)\n",
        "\n",
        "        out = self.layer1(out)\n",
        "        out = self.layer2(out)\n",
        "        out = self.layer3(out)\n",
        "        out = self.layer4(out)\n",
        "\n",
        "        out = self.avg_pool(out)\n",
        "        out = out.view(out.size(0), -1)\n",
        "        out = self.fc(out)\n",
        "\n",
        "        return out\n",
        "\n",
        "\n",
        "def ResNet18():\n",
        "    return ResNet(BasicBlock, [2, 2, 2, 2])\n",
        "\n",
        "\n",
        "# Instantiate the ResNet model\n"
      ],
      "metadata": {
        "id": "6anRJRUhZxTO"
      },
      "execution_count": null,
      "outputs": []
    },
    {
      "cell_type": "code",
      "source": [
        "num_classes = 10\n",
        "num_epochs = 100\n",
        "batch_size = 64\n",
        "learning_rate = 0.005\n",
        "\n",
        "model_softmax =  ResNet18().to(device)\n",
        "\n",
        "\n",
        "# Loss and optimizer\n",
        "criterion = nn.CrossEntropyLoss()\n",
        "optimizer = torch.optim.SGD(model_softmax.parameters(), lr=learning_rate, weight_decay = 0.005, momentum = 0.9)\n"
      ],
      "metadata": {
        "id": "iKl89rB0afzi"
      },
      "execution_count": null,
      "outputs": []
    },
    {
      "cell_type": "code",
      "source": [
        "import time\n",
        "start_time = time.time()\n",
        "\n",
        "total_step = len(train_data_loader)\n",
        "accuracy_softmax_resnet = []\n",
        "loss_softmax_resnet = []\n",
        "for epoch in range(num_epochs):\n",
        "    for i, (images, labels) in enumerate(train_data_loader):\n",
        "        # Move tensors to the configured device\n",
        "        images = images.float().to(device)\n",
        "        labels = labels.float().to(device)\n",
        "\n",
        "        # Forward pass\n",
        "        outputs = model_softmax(images)\n",
        "        loss = criterion(outputs, labels)\n",
        "\n",
        "        # Backward and optimize\n",
        "        optimizer.zero_grad()\n",
        "        loss.backward()\n",
        "        optimizer.step()\n",
        "\n",
        "    loss_softmax_resnet.append(loss.item())\n",
        "\n",
        "    print ('Epoch [{}/{}], Step [{}/{}], Loss: {:.4f}'\n",
        "                   .format(epoch+1, num_epochs, i+1, total_step, loss.item()))\n",
        "\n",
        "    # Validation\n",
        "    with torch.no_grad():\n",
        "        correct = 0\n",
        "        total = 0\n",
        "        for images, labels in validate_data_loader:\n",
        "            images = images.float().to(device)\n",
        "            labels = labels.float().to(device)\n",
        "            outputs = model_softmax(images)\n",
        "            _, predicted = torch.max(outputs.data, 1)\n",
        "            _, l = torch.max(labels, 1)\n",
        "            total += labels.size(0)\n",
        "\n",
        "            correct += (predicted == l).sum().item()\n",
        "            del images, labels, outputs\n",
        "\n",
        "        accuracy_softmax_resnet.append(100 * correct / total)\n",
        "        print('Accuracy of the network on the {} validation images: {} %'.format(4000, 100 * correct / total))\n",
        "\n",
        "end_time = time.time()\n",
        "elapsed_time = end_time - start_time\n",
        "print('Execution time:', elapsed_time, 'seconds')\n"
      ],
      "metadata": {
        "id": "6DP072lMhCjQ"
      },
      "execution_count": null,
      "outputs": []
    },
    {
      "cell_type": "code",
      "source": [
        "with torch.no_grad():\n",
        "    correct = 0\n",
        "    total = 0\n",
        "    for images, labels in test_data_loader:\n",
        "        images = images.float().to(device)\n",
        "        labels = labels.float().to(device)\n",
        "        outputs = model_softmax(images)\n",
        "        _, predicted = torch.max(outputs.data, 1)\n",
        "        _, l = torch.max(labels, 1)\n",
        "\n",
        "        total += labels.size(0)\n",
        "        correct += (predicted == l).sum().item()\n",
        "        del images, labels, outputs\n",
        "\n",
        "    print('Accuracy of the network on the {} test images: {} %'.format(10000, 100 * correct / total))"
      ],
      "metadata": {
        "colab": {
          "base_uri": "https://localhost:8080/"
        },
        "id": "Ni2zrqwVfS9C",
        "outputId": "cddd3433-3e0d-4cb1-ef3c-0ac8cd735f5f"
      },
      "execution_count": null,
      "outputs": [
        {
          "output_type": "stream",
          "name": "stdout",
          "text": [
            "Accuracy of the network on the 10000 test images: 79.4 %\n"
          ]
        }
      ]
    },
    {
      "cell_type": "markdown",
      "source": [
        "# ResNet image classification using Softmax layer + Radial loss on Custom fashion dataset"
      ],
      "metadata": {
        "id": "jqiW8Chip1r8"
      }
    },
    {
      "cell_type": "code",
      "source": [
        "import torch\n",
        "import torch.nn as nn\n",
        "\n",
        "\n",
        "class BasicBlock(nn.Module):\n",
        "    def __init__(self, in_channels, out_channels, stride=1):\n",
        "        super(BasicBlock, self).__init__()\n",
        "        self.conv1 = nn.Conv2d(in_channels, out_channels, kernel_size=3, stride=stride, padding=1, bias=False)\n",
        "        self.bn1 = nn.BatchNorm2d(out_channels)\n",
        "        self.relu = nn.ReLU(inplace=True)\n",
        "        self.conv2 = nn.Conv2d(out_channels, out_channels, kernel_size=3, stride=1, padding=1, bias=False)\n",
        "        self.bn2 = nn.BatchNorm2d(out_channels)\n",
        "\n",
        "        self.shortcut = nn.Sequential()\n",
        "        if stride != 1 or in_channels != out_channels:\n",
        "            self.shortcut = nn.Sequential(\n",
        "                nn.Conv2d(in_channels, out_channels, kernel_size=1, stride=stride, bias=False),\n",
        "                nn.BatchNorm2d(out_channels)\n",
        "            )\n",
        "\n",
        "    def forward(self, x):\n",
        "        residual = x\n",
        "\n",
        "        out = self.conv1(x)\n",
        "        out = self.bn1(out)\n",
        "        out = self.relu(out)\n",
        "\n",
        "        out = self.conv2(out)\n",
        "        out = self.bn2(out)\n",
        "\n",
        "        out += self.shortcut(residual)\n",
        "        out = self.relu(out)\n",
        "\n",
        "        return out\n",
        "\n",
        "\n",
        "class ResNet_Softmax(nn.Module):\n",
        "    def __init__(self, block, num_blocks, num_classes=10):\n",
        "        super(ResNet_Softmax, self).__init__()\n",
        "        self.in_channels = 64\n",
        "\n",
        "        self.conv1 = nn.Conv2d(1, 64, kernel_size=3, stride=1, padding=1, bias=False)\n",
        "        self.bn1 = nn.BatchNorm2d(64)\n",
        "        self.relu = nn.ReLU(inplace=True)\n",
        "        self.layer1 = self.make_layer(block, 64, num_blocks[0], stride=1)\n",
        "        self.layer2 = self.make_layer(block, 128, num_blocks[1], stride=2)\n",
        "        self.layer3 = self.make_layer(block, 256, num_blocks[2], stride=2)\n",
        "        self.layer4 = self.make_layer(block, 512, num_blocks[3], stride=2)\n",
        "        self.avg_pool = nn.AdaptiveAvgPool2d((1, 1))\n",
        "        self.fc = nn.Linear(512, num_classes)\n",
        "        self.softmax = nn.Softmax(dim=1)\n",
        "\n",
        "\n",
        "    def make_layer(self, block, out_channels, num_blocks, stride):\n",
        "        layers = []\n",
        "        layers.append(block(self.in_channels, out_channels, stride))\n",
        "        self.in_channels = out_channels\n",
        "        for _ in range(1, num_blocks):\n",
        "            layers.append(block(out_channels, out_channels))\n",
        "        return nn.Sequential(*layers)\n",
        "\n",
        "    def forward(self, x):\n",
        "        out = self.conv1(x)\n",
        "        out = self.bn1(out)\n",
        "        out = self.relu(out)\n",
        "\n",
        "        out = self.layer1(out)\n",
        "        out = self.layer2(out)\n",
        "        out = self.layer3(out)\n",
        "        out = self.layer4(out)\n",
        "\n",
        "        out = self.avg_pool(out)\n",
        "        out = out.view(out.size(0), -1)\n",
        "        out = self.fc(out)\n",
        "        out = self.softmax(out)\n",
        "\n",
        "\n",
        "        return out\n",
        "\n",
        "\n",
        "def ResNet_softmax18():\n",
        "    return ResNet_Softmax(BasicBlock, [2, 2, 2, 2])\n",
        "\n",
        "\n",
        "# Instantiate the ResNet model\n"
      ],
      "metadata": {
        "id": "A5Md5lXIp58v"
      },
      "execution_count": null,
      "outputs": []
    },
    {
      "cell_type": "code",
      "source": [
        "class RadialLoss(nn.Module):\n",
        "\n",
        "  def __init__(self):\n",
        "    super().__init__()\n",
        "\n",
        "  def forward(self, yHat, y):\n",
        "\n",
        "    # input shape --> (batch, number_of_classes)\n",
        "    #theta_radian = torch.acos(torch.sum(yHat* y, dim=-1) / (torch.norm(yHat, dim=1) * torch.norm(y,dim=1)))\n",
        "    cos_theta = torch.sum(yHat* y, dim=-1) / (torch.norm(yHat, dim=1) * torch.norm(y,dim=1))\n",
        "\n",
        "    return 1 - cos_theta"
      ],
      "metadata": {
        "id": "yWdNeXgorIVX"
      },
      "execution_count": null,
      "outputs": []
    },
    {
      "cell_type": "code",
      "source": [
        "num_classes = 10\n",
        "num_epochs = 100\n",
        "batch_size = 64\n",
        "learning_rate = 0.005\n",
        "\n",
        "model_radial = ResNet_softmax18().to(device)\n",
        "\n",
        "\n",
        "# Loss and optimizer\n",
        "criterion = RadialLoss()\n",
        "optimizer = torch.optim.SGD(model_radial.parameters(), lr=learning_rate, weight_decay = 0.005, momentum = 0.9)\n"
      ],
      "metadata": {
        "id": "4AiPa28OqlFM"
      },
      "execution_count": null,
      "outputs": []
    },
    {
      "cell_type": "code",
      "source": [
        "import time\n",
        "start_time = time.time()\n",
        "\n",
        "total_step = len(train_data_loader)\n",
        "accuracy_radial_resnet = []\n",
        "loss_radial_resnet = []\n",
        "\n",
        "for epoch in range(num_epochs):\n",
        "    for i, (images, labels) in enumerate(train_data_loader):\n",
        "        # Move tensors to the configured device\n",
        "        images = images.float().to(device)\n",
        "        labels = labels.float().to(device)\n",
        "\n",
        "        # Forward pass\n",
        "        outputs = model_radial(images)\n",
        "        loss = criterion(outputs, labels).mean()\n",
        "\n",
        "        # Backward and optimize\n",
        "        optimizer.zero_grad()\n",
        "        loss.backward()\n",
        "        optimizer.step()\n",
        "\n",
        "    loss_radial_resnet.append(loss.item())\n",
        "    print ('Epoch [{}/{}], Step [{}/{}], Loss: {:.4f}'\n",
        "                   .format(epoch+1, num_epochs, i+1, total_step, loss.item()))\n",
        "\n",
        "    # Validation\n",
        "    with torch.no_grad():\n",
        "        correct = 0\n",
        "        total = 0\n",
        "        for images, labels in validate_data_loader:\n",
        "            images = images.float().to(device)\n",
        "            labels = labels.float().to(device)\n",
        "            outputs = model_radial(images)\n",
        "\n",
        "            _, predicted = torch.max(outputs.data, 1)\n",
        "            _, l = torch.max(labels, 1)\n",
        "\n",
        "            total += labels.size(0)\n",
        "\n",
        "            correct += (predicted == l).sum().item()\n",
        "            del images, labels, outputs\n",
        "\n",
        "        accuracy_radial_resnet.append(100 * correct / total)\n",
        "        print('Accuracy of the network on the {} validation images: {} %'.format(5000, 100 * correct / total))\n",
        "\n",
        "end_time = time.time()\n",
        "elapsed_time = end_time - start_time\n",
        "print('Execution time:', elapsed_time, 'seconds')"
      ],
      "metadata": {
        "id": "B0JX8dopq2WF"
      },
      "execution_count": null,
      "outputs": []
    },
    {
      "cell_type": "code",
      "source": [
        "with torch.no_grad():\n",
        "    correct = 0\n",
        "    total = 0\n",
        "    for images, labels in test_data_loader:\n",
        "        images = images.float().to(device)\n",
        "        labels = labels.float().to(device)\n",
        "        outputs = model_radial(images)\n",
        "        _, predicted = torch.max(outputs.data, 1)\n",
        "        _, l = torch.max(labels, 1)\n",
        "\n",
        "        total += labels.size(0)\n",
        "        correct += (predicted == l).sum().item()\n",
        "        del images, labels, outputs\n",
        "\n",
        "    print('Accuracy of the network on the {} test images: {} %'.format(10000, 100 * correct / total))"
      ],
      "metadata": {
        "colab": {
          "base_uri": "https://localhost:8080/"
        },
        "id": "rbI4OEtDxAzB",
        "outputId": "7de3e1a0-bc42-4371-b4d7-7269669ab8e8"
      },
      "execution_count": null,
      "outputs": [
        {
          "output_type": "stream",
          "name": "stdout",
          "text": [
            "Accuracy of the network on the 10000 test images: 80.32 %\n"
          ]
        }
      ]
    },
    {
      "cell_type": "markdown",
      "source": [
        "# ResNet image classification using CLR transformer + Mean Square on Custom fashion dataset"
      ],
      "metadata": {
        "id": "zb9nPcG6tDpp"
      }
    },
    {
      "cell_type": "code",
      "source": [
        "import torch\n",
        "\n",
        "def compute_clr_with_epsilon(tensor, epsilon=0.005):\n",
        "    # Add epsilon only to the zero values\n",
        "    zero_mask = tensor == 0\n",
        "    tensor[zero_mask] += epsilon\n",
        "\n",
        "    # Convert tensor to float data type\n",
        "    tensor = tensor.float()\n",
        "\n",
        "    # Compute the row geometric mean\n",
        "    row_gm = torch.pow(tensor.prod(dim=1), 1 / tensor.shape[1])\n",
        "\n",
        "    # Divide each element by its row geometric mean\n",
        "    tensor_div = tensor / row_gm.unsqueeze(1)\n",
        "\n",
        "    # Take the logarithm (base e) of each element\n",
        "    tensor_log = torch.log(tensor_div)\n",
        "\n",
        "    # Subtract the mean of each column from the corresponding column elements\n",
        "    tensor_clr = tensor_log - tensor_log.mean(dim=0)\n",
        "\n",
        "    return tensor_clr\n"
      ],
      "metadata": {
        "id": "9xiWMzDts8lx"
      },
      "execution_count": null,
      "outputs": []
    },
    {
      "cell_type": "code",
      "source": [
        "num_classes = 10\n",
        "num_epochs = 100\n",
        "batch_size = 64\n",
        "learning_rate = 0.005\n",
        "\n",
        "model = ResNet18().to(device)\n",
        "\n",
        "# Loss and optimizer\n",
        "criterion = nn.MSELoss()\n",
        "optimizer = torch.optim.SGD(model.parameters(), lr=learning_rate, weight_decay = 0.005, momentum = 0.9)\n"
      ],
      "metadata": {
        "id": "kesInelotIh0"
      },
      "execution_count": null,
      "outputs": []
    },
    {
      "cell_type": "code",
      "source": [
        "y_train_one_hot_clr = compute_clr_with_epsilon(y_train_one_hot.float())"
      ],
      "metadata": {
        "id": "T1rJL82u1X6P"
      },
      "execution_count": null,
      "outputs": []
    },
    {
      "cell_type": "code",
      "source": [
        "batch_size = 64\n",
        "\n",
        "train_dataset = TensorDataset(x_train_norm.view(-1, 1, 28, 28), y_train_one_hot_clr)\n",
        "train_data_loader_clr = DataLoader(train_dataset, batch_size, shuffle=True)"
      ],
      "metadata": {
        "id": "wsE5KjfY1xa7"
      },
      "execution_count": null,
      "outputs": []
    },
    {
      "cell_type": "code",
      "source": [
        "import time\n",
        "start_time = time.time()\n",
        "\n",
        "total_step = len(train_data_loader)\n",
        "accuracy_clr_resnet = []\n",
        "loss_clr_resnet = []\n",
        "\n",
        "for epoch in range(num_epochs):\n",
        "    for i, (images, labels) in enumerate(train_data_loader_clr):\n",
        "        # Move tensors to the configured device\n",
        "        images = images.float().to(device)\n",
        "        labels = labels.float().to(device)\n",
        "        #labels = compute_clr_with_epsilon(labels.float().to(device))\n",
        "\n",
        "        # Forward pass\n",
        "        outputs = model(images)\n",
        "        loss = criterion(outputs, labels)\n",
        "\n",
        "        # Backward and optimize\n",
        "        optimizer.zero_grad()\n",
        "        loss.backward()\n",
        "        optimizer.step()\n",
        "    loss_clr_resnet.append(loss.item())\n",
        "    print ('Epoch [{}/{}], Step [{}/{}], Loss: {:.4f}'\n",
        "                   .format(epoch+1, num_epochs, i+1, total_step, loss.item()))\n",
        "\n",
        "    # Validation\n",
        "    with torch.no_grad():\n",
        "        correct = 0\n",
        "        total = 0\n",
        "        for images, labels in validate_data_loader:\n",
        "            images = images.float().to(device)\n",
        "            labels = labels.float().to(device)\n",
        "            outputs = model(images)\n",
        "            _, predicted = torch.max(outputs.data, 1)\n",
        "            _, l = torch.max(labels, 1)\n",
        "            total += labels.size(0)\n",
        "\n",
        "            correct += (predicted == l).sum().item()\n",
        "            del images, labels, outputs\n",
        "\n",
        "        accuracy_clr_resnet.append(100 * correct / total)\n",
        "        print('Accuracy of the network on the {} validation images: {} %'.format(5000, 100 * correct / total))\n",
        "\n",
        "\n",
        "end_time = time.time()\n",
        "elapsed_time = end_time - start_time\n",
        "print('Execution time:', elapsed_time, 'seconds')"
      ],
      "metadata": {
        "id": "sSELQ6uZtW3b"
      },
      "execution_count": null,
      "outputs": []
    },
    {
      "cell_type": "code",
      "source": [
        "with torch.no_grad():\n",
        "    correct = 0\n",
        "    total = 0\n",
        "    for images, labels in test_data_loader:\n",
        "        images = images.float().to(device)\n",
        "        labels = labels.float().to(device)\n",
        "        outputs = model(images)\n",
        "        _, predicted = torch.max(outputs.data, 1)\n",
        "        _, l = torch.max(labels, 1)\n",
        "\n",
        "        total += labels.size(0)\n",
        "        correct += (predicted == l).sum().item()\n",
        "        del images, labels, outputs\n",
        "\n",
        "    print('Accuracy of the network on the {} test images: {} %'.format(10000, 100 * correct / total))"
      ],
      "metadata": {
        "colab": {
          "base_uri": "https://localhost:8080/"
        },
        "id": "x79mPUR6GFBx",
        "outputId": "a0e14a99-19ba-4892-dd82-457caa9abb2b"
      },
      "execution_count": null,
      "outputs": [
        {
          "output_type": "stream",
          "name": "stdout",
          "text": [
            "Accuracy of the network on the 10000 test images: 80.1 %\n"
          ]
        }
      ]
    }
  ]
}